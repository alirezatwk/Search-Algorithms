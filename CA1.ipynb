{
 "cells": [
  {
   "cell_type": "markdown",
   "metadata": {},
   "source": [
    "به نام خدا\n",
    "\n",
    "جست‌و‌جو\n",
    "\n",
    "پروژه‌ی اول هوش مصنوعی\n",
    "\n",
    "مهرماه ۱۳۹۹\n",
    "\n",
    "علیرضا توکلی ۸۱۰۱۹۷۶۸۶"
   ]
  },
  {
   "cell_type": "markdown",
   "metadata": {},
   "source": [
    "# هدف پروژه\n",
    "\n",
    "هدف از انجام این پروژه مقایسه‌ی عمل‌کرد الگوریتم‌های گفته شده در سر کلاس؛ به طور مشخص‌تر\n",
    "\n",
    "BFS, IDS, A*, Weighted A*\n",
    "\n",
    "است. هم‌چنین می‌توان از این پروژه مفاهیم حالت‌ها و یال‌های بین آن‌ها را نیز تمرین کرد."
   ]
  },
  {
   "cell_type": "markdown",
   "metadata": {},
   "source": [
    "# توضیح کلی پروژه\n",
    "در راستای هدف گفته شده، بازی‌ای وجود دارد که در آن ماری در تلاش است که غذاهای روی نقشه را بخورد. ما برای این کار می‌خواهیم مار کم‌ترین تعداد جابه‌جایی ممکن را داشته باشد. پس باید از روش‌های جست‌و‌جو در فضای حالت‌ها استفاده کنیم. "
   ]
  },
  {
   "cell_type": "markdown",
   "metadata": {},
   "source": [
    "# دیتاهای لود شده\n",
    "دیتاهای لود شده سه ورودی داده شده هستند که برای بررسی عمل‌کرد الگوریتم‌ها مورد استفاده قرار می‌گیرند. هر کدام از این دیتاها میزان سختی حل مخصوص به خود را دارند تا الگوریتم‌ها در شرایط متفاوت بررسی شوند."
   ]
  },
  {
   "cell_type": "markdown",
   "metadata": {},
   "source": [
    "# نحوه‌ی مدل کردن مسئله\n",
    "مسئله را به این صورت مدل خواهیم کرد که هر حالتی از مار در صفحه و هر حالتی از دانه‌ها را یک حالت می‌گیریم. هم‌چنین بین دو حالت یال می‌گذاریم اگر و تنها اگر به ازای یک  حرکت مار، از حالت اولیه به حالت ثانویه بتوان رسید.\n",
    "\n",
    "حالت اولیه ما حالت ورودی است که از فایل می‌خوانیم و حالت نهایی ما هر حالتی است که در نقشه دانه وجود نداشته باشد؛ یا معادلا همه‌ی دانه‌ها خورده شده باشند."
   ]
  },
  {
   "cell_type": "code",
   "execution_count": 95,
   "metadata": {},
   "outputs": [],
   "source": [
    "import copy\n",
    "import time\n",
    "from collections import deque"
   ]
  },
  {
   "cell_type": "code",
   "execution_count": 142,
   "metadata": {},
   "outputs": [],
   "source": [
    "class State:\n",
    "    def __init__(self, snake, seeds):\n",
    "        self.snake = snake\n",
    "        self.seeds = seeds\n",
    "\n",
    "    def __str__(self):\n",
    "        return str([self.snake] + [self.seeds])\n",
    "\n",
    "    def __repr__(self):\n",
    "        return str([self.snake] + [self.seeds])\n",
    "\n",
    "    def __hash__(self):\n",
    "        return hash(str(self.snake + self.seeds))\n",
    "    \n",
    "    def __lt__(self, other):\n",
    "        if self.snake[0][0] < other.snake[0][0]:\n",
    "            return True\n",
    "        elif self.snake[0][0] > other.snake[0][0]:\n",
    "            return False\n",
    "        else:\n",
    "            return (self.snake[0][1] < other.snake[0][1])"
   ]
  },
  {
   "cell_type": "code",
   "execution_count": 97,
   "metadata": {},
   "outputs": [],
   "source": [
    "dx = [-1, 0, +1, 0]\n",
    "dy = [0, -1, 0, +1]\n",
    "direction = \"ULDR\"\n",
    "\n",
    "def expand(state, path, n, m): \n",
    "    x, y = state.snake[0]\n",
    "    expandList = []\n",
    "    \n",
    "    for i in range(4):\n",
    "        nx = (x + dx[i]) % n\n",
    "        ny = (y + dy[i]) % m\n",
    "        \n",
    "        if len(state.snake) > 1 and [nx, ny] == state.snake[1]:\n",
    "            continue\n",
    "        \n",
    "        crash = False\n",
    "        for j in range(1, len(state.snake) - 1):\n",
    "            if [nx, ny] == state.snake[j]:\n",
    "                crash = True\n",
    "                break\n",
    "        \n",
    "        if crash == True:\n",
    "            continue\n",
    "        \n",
    "        indexSeed = -1\n",
    "        for j in range(len(state.seeds)):\n",
    "            if nx == state.seeds[j][0] and ny == state.seeds[j][1]:\n",
    "                indexSeed = j\n",
    "                break\n",
    "                \n",
    "        if indexSeed == -1:\n",
    "            newSnake = [[nx, ny]] + state.snake[:-1]\n",
    "            newSeeds = state.seeds\n",
    "        else:\n",
    "            newSnake = [[nx, ny]] + state.snake\n",
    "            newSeeds = copy.deepcopy(state.seeds)\n",
    "            if state.seeds[indexSeed][2] == 1:\n",
    "                newSeeds.pop(indexSeed)\n",
    "            else:\n",
    "                newSeeds[indexSeed][2] -= 1\n",
    "        newPath = path + direction[i]\n",
    "        \n",
    "        expandList.append([State(newSnake, newSeeds), newPath])\n",
    "    return expandList"
   ]
  },
  {
   "cell_type": "markdown",
   "metadata": {},
   "source": [
    "# BFS"
   ]
  },
  {
   "cell_type": "markdown",
   "metadata": {},
   "source": [
    "## توضیح الگوریتم\n",
    "صفی در اختیار داریم که پس از اکپسند کردن هر حالت، حالت‌های اکسپند شده که قبلا به آن‌ها نرسیده بودیم را به ته این صف اضافه می‌کند. برای این کار و بررسی سریع حالات همان‌طور که گفته شد، از تابع هش استفاده می‌شود که هر حالت را به یک عدد می‌برد. این طور می‌توان تمایز دو حالت را بررسی کرد. "
   ]
  },
  {
   "cell_type": "markdown",
   "metadata": {},
   "source": [
    "## تفاوت‌های این الگوریتم با الگوریتم‌های دیگر\n",
    "از حافظه‌ی زیادی استفاده می‌کند. اما مطمئن خواهیم بود جواب بهینه است."
   ]
  },
  {
   "cell_type": "code",
   "execution_count": 220,
   "metadata": {},
   "outputs": [],
   "source": [
    "def bfs(firstState, n, m):\n",
    "    queue = deque()\n",
    "    queue.append([firstState, ''])\n",
    "    expandSet = set()\n",
    "    expandSet.add(hash(firstState))\n",
    "    mojazaCount = 1\n",
    "    count = 1\n",
    "    while len(queue):\n",
    "        state = queue.popleft()\n",
    "        expandList = expand(state[0], state[1], n, m)\n",
    "        for ex in expandList:\n",
    "            count += len(expandList)\n",
    "            if hash(ex[0]) not in expandSet:\n",
    "                if len(ex[0].seeds) == 0:\n",
    "                    return [ex[1], mojazaCount, count]\n",
    "                queue.append(ex)\n",
    "                mojazaCount += 1\n",
    "                expandSet.add(hash(ex[0]))"
   ]
  },
  {
   "cell_type": "code",
   "execution_count": 221,
   "metadata": {},
   "outputs": [
    {
     "name": "stdout",
     "output_type": "stream",
     "text": [
      "LDLUUULLUULL 12 4735 29678\n",
      "Time taken: 0.05362510681152344 seconds\n"
     ]
    }
   ],
   "source": [
    "t = 0\n",
    "for _ in range(2):\n",
    "    f = open(\"test1.txt\", \"r\")\n",
    "    n, m = map(int, f.readline().strip().split(','))\n",
    "    x, y = map(int, f.readline().strip().split(','))\n",
    "    q = int(f.readline().strip().split(',')[0])\n",
    "    seeds = []\n",
    "    for i in range(q):\n",
    "        seeds.append(list(map(int, f.readline().strip().split(','))))\n",
    "    \n",
    "    tic = time.time()\n",
    "    ans = bfs(State([[x, y]], seeds), n, m)\n",
    "    toc = time.time()\n",
    "    t += toc - tic\n",
    "print(ans[0], len(ans[0]), ans[1], ans[2])\n",
    "print(\"Time taken:\", t / 2, \"seconds\")"
   ]
  },
  {
   "cell_type": "code",
   "execution_count": 223,
   "metadata": {},
   "outputs": [
    {
     "name": "stdout",
     "output_type": "stream",
     "text": [
      "URDLLUUUULULLLL 15 44184 288867\n",
      "Time taken: 0.5359451770782471 seconds\n"
     ]
    }
   ],
   "source": [
    "t = 0\n",
    "for _ in range(2):\n",
    "    f = open(\"test2.txt\", \"r\")\n",
    "    n, m = map(int, f.readline().strip().split(','))\n",
    "    x, y = map(int, f.readline().strip().split(','))\n",
    "    q = int(f.readline().strip().split(',')[0])\n",
    "    seeds = []\n",
    "    for i in range(q):\n",
    "        seeds.append(list(map(int, f.readline().strip().split(','))))\n",
    "    \n",
    "    tic = time.time()\n",
    "    ans = bfs(State([[x, y]], seeds), n, m)\n",
    "    toc = time.time()\n",
    "    t += toc - tic\n",
    "print(ans[0], len(ans[0]), ans[1], ans[2])\n",
    "print(\"Time taken:\", t / 2, \"seconds\")"
   ]
  },
  {
   "cell_type": "code",
   "execution_count": 224,
   "metadata": {},
   "outputs": [
    {
     "name": "stdout",
     "output_type": "stream",
     "text": [
      "URDDDRDRRDDRRRURRDLLLUULL 25 199157 1311521\n",
      "Time taken: 2.5454245805740356 seconds\n"
     ]
    }
   ],
   "source": [
    "t = 0\n",
    "for _ in range(2):\n",
    "    f = open(\"test3.txt\", \"r\")\n",
    "    n, m = map(int, f.readline().strip().split(','))\n",
    "    x, y = map(int, f.readline().strip().split(','))\n",
    "    q = int(f.readline().strip().split(',')[0])\n",
    "    seeds = []\n",
    "    for i in range(q):\n",
    "        seeds.append(list(map(int, f.readline().strip().split(','))))\n",
    "    \n",
    "    tic = time.time()\n",
    "    ans = bfs(State([[x, y]], seeds), n, m)\n",
    "    toc = time.time()\n",
    "    t += toc - tic\n",
    "print(ans[0], len(ans[0]), ans[1], ans[2])\n",
    "print(\"Time taken:\", t / 2, \"seconds\")"
   ]
  },
  {
   "cell_type": "markdown",
   "metadata": {},
   "source": [
    "# DFS"
   ]
  },
  {
   "cell_type": "markdown",
   "metadata": {},
   "source": [
    "## توضیح الگوریتم\n",
    "در این بخش به جای اضافه کردن حالت‌های اکسپند شده به ته صف، آن‌ها را به سر صف اضافه می‌کنیم با این تفاوت که حواسمان هست که از ال مرحله جلوتر نرویم. حال اگر ال را از ابتدا شروع کرده و تا وقتی که به جواب نرسیدیم زیاد کنیم، بدیهتا همان‌طور که سر کلاس گفته شد، به جواب می‌رسیم.\n",
    "\n",
    "برای بررسی این که حالت را قبلا دیده‌ایم یا نه و اگر دیده‌ایم، با چه فاصله‌ای دیده‌ایم از دیکشنری که این عملیات‌ها را از اردر لاگ ان انجام می‌دهد استفاده می‌کنیم."
   ]
  },
  {
   "cell_type": "markdown",
   "metadata": {},
   "source": [
    "## تفاوت این الگوریتم با الگوریتم‌های دیگر\n",
    "این الگوریتم زمان بیش‌تری می‌برد زیرا باید به ازای ارتفاع‌های مختلف بعضی از حالات را چندین بار پیمایش کند. اما این زمان به صورتی نیست که اردر زمانی را بد کند و همان چیزی که برای بی‌اف‌اس بود می‌ماند.\n",
    "بر خلاف بقیه نیازی به ذخیره سازی تمامی حالات ندارد؛ پس می‌توان گفت که حافظه‌ی کم‌تری می‌برد."
   ]
  },
  {
   "cell_type": "code",
   "execution_count": 260,
   "metadata": {},
   "outputs": [],
   "source": [
    "def dfs(firstState, n, m, l):\n",
    "    queue = deque()\n",
    "    queue.append([firstState, ''])\n",
    "    dis = {hash(firstState):0}\n",
    "    mojazaCount = 1\n",
    "    count = 1\n",
    "    while len(queue):\n",
    "        state = queue.pop()\n",
    "        if len(state[1]) >= l:\n",
    "            continue\n",
    "        expandList = expand(state[0], state[1], n, m)\n",
    "        for ex in expandList:\n",
    "            count += len(expandList)\n",
    "            if (hash(ex[0]) not in dis) or dis[hash(ex[0])] > len(ex[1]):\n",
    "                if len(ex[0].seeds) == 0:\n",
    "                    return [ex[1], mojazaCount, count]\n",
    "                mojazaCount += 1\n",
    "                queue.append(ex)\n",
    "                dis[hash(ex[0])] = len(ex[1])\n",
    "    return ['', mojazaCount, count]"
   ]
  },
  {
   "cell_type": "code",
   "execution_count": 279,
   "metadata": {},
   "outputs": [],
   "source": [
    "def IDS(state, n, m):\n",
    "    i = 0\n",
    "    mojazaCount = 0\n",
    "    count = 0\n",
    "    while True:\n",
    "        ans = dfs(state, n, m, i)\n",
    "        mojazaCount += ans[1]\n",
    "        count += ans[2]\n",
    "        if ans[0] != '':\n",
    "            return ans\n",
    "        i += 1"
   ]
  },
  {
   "cell_type": "code",
   "execution_count": 280,
   "metadata": {},
   "outputs": [
    {
     "name": "stdout",
     "output_type": "stream",
     "text": [
      "DLDRRDRRDRDD 12 8192 44137\n",
      "Time taken: 0.26406431198120117 seconds\n"
     ]
    }
   ],
   "source": [
    "t = 0\n",
    "for _ in range(2):\n",
    "    f = open(\"test1.txt\", \"r\")\n",
    "    n, m = map(int, f.readline().strip().split(','))\n",
    "    x, y = map(int, f.readline().strip().split(','))\n",
    "    q = int(f.readline().strip().split(',')[0])\n",
    "    seeds = []\n",
    "    for i in range(q):\n",
    "        seeds.append(list(map(int, f.readline().strip().split(','))))\n",
    "    \n",
    "    tic = time.time()\n",
    "    ans = IDS(State([[x, y]], seeds), n, m)\n",
    "    toc = time.time()\n",
    "    t += toc - tic\n",
    "print(ans[0], len(ans[0]), ans[1], ans[2])\n",
    "print(\"Time taken:\", t / 2, \"seconds\")"
   ]
  },
  {
   "cell_type": "code",
   "execution_count": 281,
   "metadata": {
    "scrolled": true
   },
   "outputs": [
    {
     "name": "stdout",
     "output_type": "stream",
     "text": [
      "RULDLULUUULLLLU 15 32292 181719\n",
      "Time taken: 2.759732484817505 seconds\n"
     ]
    }
   ],
   "source": [
    "t = 0\n",
    "for _ in range(2):\n",
    "    f = open(\"test2.txt\", \"r\")\n",
    "    n, m = map(int, f.readline().strip().split(','))\n",
    "    x, y = map(int, f.readline().strip().split(','))\n",
    "    q = int(f.readline().strip().split(',')[0])\n",
    "    seeds = []\n",
    "    for i in range(q):\n",
    "        seeds.append(list(map(int, f.readline().strip().split(','))))\n",
    "    \n",
    "    tic = time.time()\n",
    "    ans = IDS(State([[x, y]], seeds), n, m)\n",
    "    toc = time.time()\n",
    "    t += toc - tic\n",
    "print(ans[0], len(ans[0]), ans[1], ans[2])\n",
    "print(\"Time taken:\", t / 2, \"seconds\")"
   ]
  },
  {
   "cell_type": "code",
   "execution_count": 282,
   "metadata": {},
   "outputs": [
    {
     "name": "stdout",
     "output_type": "stream",
     "text": [
      "RURDDDRRDRRRDDRRULLDLLLUU 25 398609 2554085\n",
      "Time taken: 23.737545490264893 seconds\n"
     ]
    }
   ],
   "source": [
    "t = 0\n",
    "for _ in range(2):\n",
    "    f = open(\"test3.txt\", \"r\")\n",
    "    n, m = map(int, f.readline().strip().split(','))\n",
    "    x, y = map(int, f.readline().strip().split(','))\n",
    "    q = int(f.readline().strip().split(',')[0])\n",
    "    seeds = []\n",
    "    for i in range(q):\n",
    "        seeds.append(list(map(int, f.readline().strip().split(','))))\n",
    "    \n",
    "    tic = time.time()\n",
    "    ans = IDS(State([[x, y]], seeds), n, m)\n",
    "    toc = time.time()\n",
    "    t += toc - tic\n",
    "print(ans[0], len(ans[0]), ans[1], ans[2])\n",
    "print(\"Time taken:\", t / 2, \"seconds\")"
   ]
  },
  {
   "cell_type": "markdown",
   "metadata": {},
   "source": [
    "# A*"
   ]
  },
  {
   "cell_type": "markdown",
   "metadata": {},
   "source": [
    "## توضیح الگوریتم\n",
    "در این الگوریتم از صفی با خاصیت مرتب بودن استفاده می‌کنیم. در قطعه کد پایین این صف را با هیپ پیاده‌سازی کرده‌ایم. هر حالت عدد که در این صف دارد برابر با فاصله‌اش تا ابتدای مسیر به علاوه‌ی تابع اچی که ما آن‌ها تخمین می‌زنیم. حال ادامه‌ی کار دقیقا مانند بی‌اف‌اس است."
   ]
  },
  {
   "cell_type": "markdown",
   "metadata": {},
   "source": [
    "## تفاوت این الگوریتم با الگوریتم‌های دیگر\n",
    "به دلیل داشتن تابع پیش‌بینی، به سرعت آن خیلی کمک شده است ولی برای این که این کمک انجام شود، حتما باید اثبات‌هایی انجام شود. در حالت اول به دلیل کانسیستنسی، نیازی به دیدن حالت‌های تکراری نیست و این کار باعث بهتر شدن آن نسبت به بی‌اف‌اس می‌شود اما در حالت غیر کانسیستنی، باید حالت‌های تکراری را نیز بررسی کنیم که نیازمند دیکشنری است."
   ]
  },
  {
   "cell_type": "code",
   "execution_count": 125,
   "metadata": {},
   "outputs": [],
   "source": [
    "import heapq"
   ]
  },
  {
   "cell_type": "code",
   "execution_count": 233,
   "metadata": {},
   "outputs": [],
   "source": [
    "def aStar(firstState, n, m, h):\n",
    "    queue = []\n",
    "    heapq.heappush(queue, [h(firstState, n, m), firstState, ''])\n",
    "    expandSet = set()\n",
    "    expandSet.add(hash(firstState))\n",
    "    mojazaCount = 1\n",
    "    count = 1\n",
    "    while queue:\n",
    "        distance, state, path = heapq.heappop(queue)\n",
    "        expandList = expand(state, path, n, m)\n",
    "        for ex in expandList:\n",
    "            count += len(expandList)\n",
    "            if hash(ex[0]) not in expandSet:\n",
    "                if len(ex[0].seeds) == 0:\n",
    "                    return [ex[1], mojazaCount, count]\n",
    "                mojazaCount += 1\n",
    "                heapq.heappush(queue, [h(ex[0], n, m) + len(ex[1]), ex[0], ex[1]])\n",
    "                expandSet.add(hash(ex[0]))"
   ]
  },
  {
   "cell_type": "markdown",
   "metadata": {},
   "source": [
    "## تعداد دانه‌های خورده نشده"
   ]
  },
  {
   "cell_type": "markdown",
   "metadata": {},
   "source": [
    "تابع مورد نظرمان را تعداد دانه‌های خورده نشده تعریف می‌کنیم. می‌دانیم که برای خوردن هر دانه حداقل یک عملیات نیاز است، پس این تابع ما برای هر حالت، کم‌تر مساوی کوچک‌ترین مسیر این حالت تا یکی از حالات نهایی است.\n",
    "پس admissable است.\n",
    "\n",
    "حال ادعا داریم این الگوریتم consistency هم دارد.\n",
    "\n",
    "زیرا هر دو حالت را بگیرید، فرض کنید از اولی\n",
    "\n",
    "A\n",
    "\n",
    "به دومی برویم. از آن‌جایی که به حالت بعدی رفتیم، پس تعداد دانه‌های روی زمین کم‌تر مساوی شده است.حال فاصله حالت اول تا یکی از حالات نهایی منهای فاصله‌ی حالت دوم تا یکی از حالات نهایی، حتما کم‌تر مساوی فاصله‌ی بین این دو حالت است. زیرا اگر نباشد، ابتدا از حالت اول به حالت دوم می‌رویم و سپس تمام دانه‌ها را می‌خوریم و مسیر کوتاه‌تری خواهیم داشت."
   ]
  },
  {
   "cell_type": "code",
   "execution_count": 193,
   "metadata": {},
   "outputs": [],
   "source": [
    "def heuristic1(state, n, m):\n",
    "    return len(state.seeds)"
   ]
  },
  {
   "cell_type": "code",
   "execution_count": 234,
   "metadata": {},
   "outputs": [
    {
     "name": "stdout",
     "output_type": "stream",
     "text": [
      "LDRDRDRDRDRD 12 2825 15482\n",
      "Time taken: 0.038837432861328125 seconds\n"
     ]
    }
   ],
   "source": [
    "t = 0\n",
    "for _ in range(2):\n",
    "    f = open(\"test1.txt\", \"r\")\n",
    "    n, m = map(int, f.readline().strip().split(','))\n",
    "    x, y = map(int, f.readline().strip().split(','))\n",
    "    q = int(f.readline().strip().split(',')[0])\n",
    "    seeds = []\n",
    "    for i in range(q):\n",
    "        seeds.append(list(map(int, f.readline().strip().split(','))))\n",
    "    \n",
    "    tic = time.time()\n",
    "    ans = aStar(State([[x, y]], seeds), n, m, heuristic1)\n",
    "    toc = time.time()\n",
    "    t += toc - tic\n",
    "print(ans[0], len(ans[0]), ans[1], ans[2])\n",
    "print(\"Time taken:\", t / 2, \"seconds\")"
   ]
  },
  {
   "cell_type": "code",
   "execution_count": 235,
   "metadata": {},
   "outputs": [
    {
     "name": "stdout",
     "output_type": "stream",
     "text": [
      "URDLLUUULULLLUL 15 26669 156380\n",
      "Time taken: 0.4536869525909424 seconds\n"
     ]
    }
   ],
   "source": [
    "t = 0\n",
    "for _ in range(2):\n",
    "    f = open(\"test2.txt\", \"r\")\n",
    "    n, m = map(int, f.readline().strip().split(','))\n",
    "    x, y = map(int, f.readline().strip().split(','))\n",
    "    q = int(f.readline().strip().split(',')[0])\n",
    "    seeds = []\n",
    "    for i in range(q):\n",
    "        seeds.append(list(map(int, f.readline().strip().split(','))))\n",
    "    \n",
    "    tic = time.time()\n",
    "    ans = aStar(State([[x, y]], seeds), n, m, heuristic1)\n",
    "    toc = time.time()\n",
    "    t += toc - tic\n",
    "print(ans[0], len(ans[0]), ans[1], ans[2])\n",
    "print(\"Time taken:\", t / 2, \"seconds\")"
   ]
  },
  {
   "cell_type": "code",
   "execution_count": 236,
   "metadata": {},
   "outputs": [
    {
     "name": "stdout",
     "output_type": "stream",
     "text": [
      "URDDDRRDRDRRRDRRULLDLLUUL 25 128170 806766\n",
      "Time taken: 2.461205244064331 seconds\n"
     ]
    }
   ],
   "source": [
    "t = 0\n",
    "for _ in range(2):\n",
    "    f = open(\"test3.txt\", \"r\")\n",
    "    n, m = map(int, f.readline().strip().split(','))\n",
    "    x, y = map(int, f.readline().strip().split(','))\n",
    "    q = int(f.readline().strip().split(',')[0])\n",
    "    seeds = []\n",
    "    for i in range(q):\n",
    "        seeds.append(list(map(int, f.readline().strip().split(','))))\n",
    "    \n",
    "    tic = time.time()\n",
    "    ans = aStar(State([[x, y]], seeds), n, m, heuristic1)\n",
    "    toc = time.time()\n",
    "    t += toc - tic\n",
    "print(ans[0], len(ans[0]), ans[1], ans[2])\n",
    "print(\"Time taken:\", t / 2, \"seconds\")"
   ]
  },
  {
   "cell_type": "markdown",
   "metadata": {},
   "source": [
    "## فاصله تا اولین دانه"
   ]
  },
  {
   "cell_type": "markdown",
   "metadata": {},
   "source": [
    "مار باید در هر حالت دانه‌ای که سر لیست دانه‌هاست را بخورد. کوتاه‌ترین راه راه منهتنی‌ایست که ممکن است از دیوارها نیز رد بشود. اگر تعدادی دانه‌ی دیگر در سر راه بخورد که مسیرش طولانی‌تر نیز می‌شود. پس اثبات کردیم تابع ما ادمیزبل است."
   ]
  },
  {
   "cell_type": "markdown",
   "metadata": {},
   "source": [
    "حال از آن‌جایی که این تابع کانسیستند نیست، برای پیدا کردن جواب بهینه، حتما می‌بایست حالت‌های تکراری را نیز مشاهده کرد."
   ]
  },
  {
   "cell_type": "code",
   "execution_count": 237,
   "metadata": {},
   "outputs": [],
   "source": [
    "def heuristic2(state, n, m):\n",
    "    x, y = state.snake[0]\n",
    "    a = state.seeds[0][0]\n",
    "    b = state.seeds[0][1]\n",
    "    return min((x - a) % n, (a - x) % n) + min((y - b) % m, (b - y) % m)"
   ]
  },
  {
   "cell_type": "code",
   "execution_count": 238,
   "metadata": {},
   "outputs": [
    {
     "name": "stdout",
     "output_type": "stream",
     "text": [
      "DLULUULLUULL 12 2955 15642\n",
      "Time taken: 0.07639646530151367 seconds\n"
     ]
    }
   ],
   "source": [
    "t = 0\n",
    "for _ in range(2):\n",
    "    f = open(\"test1.txt\", \"r\")\n",
    "    n, m = map(int, f.readline().strip().split(','))\n",
    "    x, y = map(int, f.readline().strip().split(','))\n",
    "    q = int(f.readline().strip().split(',')[0])\n",
    "    seeds = []\n",
    "    for i in range(q):\n",
    "        seeds.append(list(map(int, f.readline().strip().split(','))))\n",
    "    \n",
    "    tic = time.time()\n",
    "    ans = aStar(State([[x, y]], seeds), n, m, heuristic2)\n",
    "    toc = time.time()\n",
    "    t += toc - tic\n",
    "print(ans[0], len(ans[0]), ans[1], ans[2])\n",
    "print(\"Time taken:\", t / 2, \"seconds\")"
   ]
  },
  {
   "cell_type": "code",
   "execution_count": 239,
   "metadata": {},
   "outputs": [
    {
     "name": "stdout",
     "output_type": "stream",
     "text": [
      "RULLDLUUUUULLLL 15 15577 93609\n",
      "Time taken: 0.24728405475616455 seconds\n"
     ]
    }
   ],
   "source": [
    "t = 0\n",
    "for _ in range(2):\n",
    "    f = open(\"test2.txt\", \"r\")\n",
    "    n, m = map(int, f.readline().strip().split(','))\n",
    "    x, y = map(int, f.readline().strip().split(','))\n",
    "    q = int(f.readline().strip().split(',')[0])\n",
    "    seeds = []\n",
    "    for i in range(q):\n",
    "        seeds.append(list(map(int, f.readline().strip().split(','))))\n",
    "    \n",
    "    tic = time.time()\n",
    "    ans = aStar(State([[x, y]], seeds), n, m, heuristic2)\n",
    "    toc = time.time()\n",
    "    t += toc - tic\n",
    "print(ans[0], len(ans[0]), ans[1], ans[2])\n",
    "print(\"Time taken:\", t / 2, \"seconds\")"
   ]
  },
  {
   "cell_type": "code",
   "execution_count": 240,
   "metadata": {},
   "outputs": [
    {
     "name": "stdout",
     "output_type": "stream",
     "text": [
      "URDDRDRRDDDRRRRRULLDLUULL 25 79028 498013\n",
      "Time taken: 1.5778253078460693 seconds\n"
     ]
    }
   ],
   "source": [
    "t = 0\n",
    "for _ in range(2):\n",
    "    f = open(\"test3.txt\", \"r\")\n",
    "    n, m = map(int, f.readline().strip().split(','))\n",
    "    x, y = map(int, f.readline().strip().split(','))\n",
    "    q = int(f.readline().strip().split(',')[0])\n",
    "    seeds = []\n",
    "    for i in range(q):\n",
    "        seeds.append(list(map(int, f.readline().strip().split(','))))\n",
    "    \n",
    "    tic = time.time()\n",
    "    ans = aStar(State([[x, y]], seeds), n, m, heuristic2)\n",
    "    toc = time.time()\n",
    "    t += toc - tic\n",
    "print(ans[0], len(ans[0]), ans[1], ans[2])\n",
    "print(\"Time taken:\", t / 2, \"seconds\")"
   ]
  },
  {
   "cell_type": "markdown",
   "metadata": {},
   "source": [
    "# Weighted A*"
   ]
  },
  {
   "cell_type": "markdown",
   "metadata": {},
   "source": [
    "## توضیح الگوریتم\n",
    "در این الگوریتم ما به جای استفاده از تابع اچ از ضریبی از آن استفاده می‌کنیم."
   ]
  },
  {
   "cell_type": "markdown",
   "metadata": {},
   "source": [
    "## تفاوت این الگوریتم با الگوریتم‌های دیگر\n",
    "در این الگوریتم سرعت بسیار زیاد‌تر شده است. زیرا تابع پیش‌بینی ما ارزش بالاتری پیدا کرده است. اما دیگر اثبات‌هایی که برای توابعمان کردیم کاربرد ندارد. پس ممکن است جواب بهینه را نداشته باشیم."
   ]
  },
  {
   "cell_type": "code",
   "execution_count": 245,
   "metadata": {},
   "outputs": [],
   "source": [
    "def weightedAStar(firstState, n, m, h, alpha):\n",
    "    queue = []\n",
    "    heapq.heappush(queue, [alpha * h(firstState, n, m), firstState, ''])\n",
    "    expandSet = set()\n",
    "    expandSet.add(hash(firstState))\n",
    "    mojazaCount = 1\n",
    "    count = 1\n",
    "    while queue:\n",
    "        distance, state, path = heapq.heappop(queue)\n",
    "        expandList = expand(state, path, n, m)\n",
    "        for ex in expandList:\n",
    "            count += len(expandList)\n",
    "            if hash(ex[0]) not in expandSet:\n",
    "                if len(ex[0].seeds) == 0:\n",
    "                    return [ex[1], mojazaCount, count]\n",
    "                mojazaCount += 1\n",
    "                heapq.heappush(queue, [alpha * h(ex[0], n, m) + len(ex[1]), ex[0], ex[1]])\n",
    "                expandSet.add(hash(ex[0]))"
   ]
  },
  {
   "cell_type": "markdown",
   "metadata": {},
   "source": [
    "## alpha = 2"
   ]
  },
  {
   "cell_type": "code",
   "execution_count": 246,
   "metadata": {},
   "outputs": [],
   "source": [
    "alpha = 2"
   ]
  },
  {
   "cell_type": "markdown",
   "metadata": {},
   "source": [
    "### heuristic1"
   ]
  },
  {
   "cell_type": "code",
   "execution_count": 247,
   "metadata": {},
   "outputs": [
    {
     "name": "stdout",
     "output_type": "stream",
     "text": [
      "LDLUUULLLUUL 12 1513 6985\n",
      "Time taken: 0.02003800868988037 seconds\n"
     ]
    }
   ],
   "source": [
    "t = 0\n",
    "for _ in range(2):\n",
    "    f = open(\"test1.txt\", \"r\")\n",
    "    n, m = map(int, f.readline().strip().split(','))\n",
    "    x, y = map(int, f.readline().strip().split(','))\n",
    "    q = int(f.readline().strip().split(',')[0])\n",
    "    seeds = []\n",
    "    for i in range(q):\n",
    "        seeds.append(list(map(int, f.readline().strip().split(','))))\n",
    "    \n",
    "    tic = time.time()\n",
    "    ans = weightedAStar(State([[x, y]], seeds), n, m, heuristic1, alpha)\n",
    "    toc = time.time()\n",
    "    t += toc - tic\n",
    "print(ans[0], len(ans[0]), ans[1], ans[2])\n",
    "print(\"Time taken:\", t / 2, \"seconds\")"
   ]
  },
  {
   "cell_type": "code",
   "execution_count": 248,
   "metadata": {},
   "outputs": [
    {
     "name": "stdout",
     "output_type": "stream",
     "text": [
      "RULDLUUULUULLLL 15 11575 57208\n",
      "Time taken: 0.17649626731872559 seconds\n"
     ]
    }
   ],
   "source": [
    "t = 0\n",
    "for _ in range(2):\n",
    "    f = open(\"test2.txt\", \"r\")\n",
    "    n, m = map(int, f.readline().strip().split(','))\n",
    "    x, y = map(int, f.readline().strip().split(','))\n",
    "    q = int(f.readline().strip().split(',')[0])\n",
    "    seeds = []\n",
    "    for i in range(q):\n",
    "        seeds.append(list(map(int, f.readline().strip().split(','))))\n",
    "    \n",
    "    tic = time.time()\n",
    "    ans = weightedAStar(State([[x, y]], seeds), n, m, heuristic1, alpha)\n",
    "    toc = time.time()\n",
    "    t += toc - tic\n",
    "print(ans[0], len(ans[0]), ans[1], ans[2])\n",
    "print(\"Time taken:\", t / 2, \"seconds\")"
   ]
  },
  {
   "cell_type": "code",
   "execution_count": 249,
   "metadata": {},
   "outputs": [
    {
     "name": "stdout",
     "output_type": "stream",
     "text": [
      "URDDDRRDRDDRRRURRDLLLULUL 25 73859 441701\n",
      "Time taken: 1.3258882761001587 seconds\n"
     ]
    }
   ],
   "source": [
    "t = 0\n",
    "for _ in range(2):\n",
    "    f = open(\"test3.txt\", \"r\")\n",
    "    n, m = map(int, f.readline().strip().split(','))\n",
    "    x, y = map(int, f.readline().strip().split(','))\n",
    "    q = int(f.readline().strip().split(',')[0])\n",
    "    seeds = []\n",
    "    for i in range(q):\n",
    "        seeds.append(list(map(int, f.readline().strip().split(','))))\n",
    "    \n",
    "    tic = time.time()\n",
    "    ans = weightedAStar(State([[x, y]], seeds), n, m, heuristic1, alpha)\n",
    "    toc = time.time()\n",
    "    t += toc - tic\n",
    "print(ans[0], len(ans[0]), ans[1], ans[2])\n",
    "print(\"Time taken:\", t / 2, \"seconds\")"
   ]
  },
  {
   "cell_type": "markdown",
   "metadata": {},
   "source": [
    "### heuristic 2"
   ]
  },
  {
   "cell_type": "code",
   "execution_count": 250,
   "metadata": {},
   "outputs": [
    {
     "name": "stdout",
     "output_type": "stream",
     "text": [
      "DLULDRRRDDRRD 13 3075 16864\n",
      "Time taken: 0.04879724979400635 seconds\n"
     ]
    }
   ],
   "source": [
    "t = 0\n",
    "for _ in range(2):\n",
    "    f = open(\"test1.txt\", \"r\")\n",
    "    n, m = map(int, f.readline().strip().split(','))\n",
    "    x, y = map(int, f.readline().strip().split(','))\n",
    "    q = int(f.readline().strip().split(',')[0])\n",
    "    seeds = []\n",
    "    for i in range(q):\n",
    "        seeds.append(list(map(int, f.readline().strip().split(','))))\n",
    "    \n",
    "    tic = time.time()\n",
    "    ans = weightedAStar(State([[x, y]], seeds), n, m, heuristic2, alpha)\n",
    "    toc = time.time()\n",
    "    t += toc - tic\n",
    "print(ans[0], len(ans[0]), ans[1], ans[2])\n",
    "print(\"Time taken:\", t / 2, \"seconds\")"
   ]
  },
  {
   "cell_type": "code",
   "execution_count": 251,
   "metadata": {},
   "outputs": [
    {
     "name": "stdout",
     "output_type": "stream",
     "text": [
      "URDLLUUUULULLLL 15 33144 221242\n",
      "Time taken: 0.5930299758911133 seconds\n"
     ]
    }
   ],
   "source": [
    "t = 0\n",
    "for _ in range(2):\n",
    "    f = open(\"test2.txt\", \"r\")\n",
    "    n, m = map(int, f.readline().strip().split(','))\n",
    "    x, y = map(int, f.readline().strip().split(','))\n",
    "    q = int(f.readline().strip().split(',')[0])\n",
    "    seeds = []\n",
    "    for i in range(q):\n",
    "        seeds.append(list(map(int, f.readline().strip().split(','))))\n",
    "    \n",
    "    tic = time.time()\n",
    "    ans = weightedAStar(State([[x, y]], seeds), n, m, heuristic2, alpha)\n",
    "    toc = time.time()\n",
    "    t += toc - tic\n",
    "print(ans[0], len(ans[0]), ans[1], ans[2])\n",
    "print(\"Time taken:\", t / 2, \"seconds\")"
   ]
  },
  {
   "cell_type": "code",
   "execution_count": 252,
   "metadata": {},
   "outputs": [
    {
     "name": "stdout",
     "output_type": "stream",
     "text": [
      "RURDDDRRDRULDDRDRRRRULLLDR 26 43655 262909\n",
      "Time taken: 0.7639806270599365 seconds\n"
     ]
    }
   ],
   "source": [
    "t = 0\n",
    "for _ in range(2):\n",
    "    f = open(\"test3.txt\", \"r\")\n",
    "    n, m = map(int, f.readline().strip().split(','))\n",
    "    x, y = map(int, f.readline().strip().split(','))\n",
    "    q = int(f.readline().strip().split(',')[0])\n",
    "    seeds = []\n",
    "    for i in range(q):\n",
    "        seeds.append(list(map(int, f.readline().strip().split(','))))\n",
    "    \n",
    "    tic = time.time()\n",
    "    ans = weightedAStar(State([[x, y]], seeds), n, m, heuristic2, alpha)\n",
    "    toc = time.time()\n",
    "    t += toc - tic\n",
    "print(ans[0], len(ans[0]), ans[1], ans[2])\n",
    "print(\"Time taken:\", t / 2, \"seconds\")"
   ]
  },
  {
   "cell_type": "markdown",
   "metadata": {},
   "source": [
    "همان‌طور که گفته شد. به ازای این آلفا، بهینه بودن جواب مقدار کمی خراب‌شده است. اما سرعت آن زیاد‌تر شده است."
   ]
  },
  {
   "cell_type": "markdown",
   "metadata": {},
   "source": [
    "## alpha = 5"
   ]
  },
  {
   "cell_type": "code",
   "execution_count": 253,
   "metadata": {},
   "outputs": [],
   "source": [
    "alpha = 5"
   ]
  },
  {
   "cell_type": "markdown",
   "metadata": {},
   "source": [
    "### heuristic1"
   ]
  },
  {
   "cell_type": "code",
   "execution_count": 254,
   "metadata": {},
   "outputs": [
    {
     "name": "stdout",
     "output_type": "stream",
     "text": [
      "LLUULLUULLDDDDD 15 1410 10013\n",
      "Time taken: 0.02353978157043457 seconds\n"
     ]
    }
   ],
   "source": [
    "t = 0\n",
    "for _ in range(2):\n",
    "    f = open(\"test1.txt\", \"r\")\n",
    "    n, m = map(int, f.readline().strip().split(','))\n",
    "    x, y = map(int, f.readline().strip().split(','))\n",
    "    q = int(f.readline().strip().split(',')[0])\n",
    "    seeds = []\n",
    "    for i in range(q):\n",
    "        seeds.append(list(map(int, f.readline().strip().split(','))))\n",
    "    \n",
    "    tic = time.time()\n",
    "    ans = weightedAStar(State([[x, y]], seeds), n, m, heuristic1, alpha)\n",
    "    toc = time.time()\n",
    "    t += toc - tic\n",
    "print(ans[0], len(ans[0]), ans[1], ans[2])\n",
    "print(\"Time taken:\", t / 2, \"seconds\")"
   ]
  },
  {
   "cell_type": "code",
   "execution_count": 255,
   "metadata": {},
   "outputs": [
    {
     "name": "stdout",
     "output_type": "stream",
     "text": [
      "LURDRUULULULLLLUL 17 1863 7223\n",
      "Time taken: 0.026841282844543457 seconds\n"
     ]
    }
   ],
   "source": [
    "t = 0\n",
    "for _ in range(2):\n",
    "    f = open(\"test2.txt\", \"r\")\n",
    "    n, m = map(int, f.readline().strip().split(','))\n",
    "    x, y = map(int, f.readline().strip().split(','))\n",
    "    q = int(f.readline().strip().split(',')[0])\n",
    "    seeds = []\n",
    "    for i in range(q):\n",
    "        seeds.append(list(map(int, f.readline().strip().split(','))))\n",
    "    \n",
    "    tic = time.time()\n",
    "    ans = weightedAStar(State([[x, y]], seeds), n, m, heuristic1, alpha)\n",
    "    toc = time.time()\n",
    "    t += toc - tic\n",
    "print(ans[0], len(ans[0]), ans[1], ans[2])\n",
    "print(\"Time taken:\", t / 2, \"seconds\")"
   ]
  },
  {
   "cell_type": "code",
   "execution_count": 256,
   "metadata": {},
   "outputs": [
    {
     "name": "stdout",
     "output_type": "stream",
     "text": [
      "RURDDDRRDLURDRRDDRRURULLDD 26 18504 97368\n",
      "Time taken: 0.2730644941329956 seconds\n"
     ]
    }
   ],
   "source": [
    "t = 0\n",
    "for _ in range(2):\n",
    "    f = open(\"test3.txt\", \"r\")\n",
    "    n, m = map(int, f.readline().strip().split(','))\n",
    "    x, y = map(int, f.readline().strip().split(','))\n",
    "    q = int(f.readline().strip().split(',')[0])\n",
    "    seeds = []\n",
    "    for i in range(q):\n",
    "        seeds.append(list(map(int, f.readline().strip().split(','))))\n",
    "    \n",
    "    tic = time.time()\n",
    "    ans = weightedAStar(State([[x, y]], seeds), n, m, heuristic1, alpha)\n",
    "    toc = time.time()\n",
    "    t += toc - tic\n",
    "print(ans[0], len(ans[0]), ans[1], ans[2])\n",
    "print(\"Time taken:\", t / 2, \"seconds\")"
   ]
  },
  {
   "cell_type": "markdown",
   "metadata": {},
   "source": [
    "### heuristic 2"
   ]
  },
  {
   "cell_type": "code",
   "execution_count": 257,
   "metadata": {},
   "outputs": [
    {
     "name": "stdout",
     "output_type": "stream",
     "text": [
      "RUURRDRDDLLLLL 14 2114 10683\n",
      "Time taken: 0.03212594985961914 seconds\n"
     ]
    }
   ],
   "source": [
    "t = 0\n",
    "for _ in range(2):\n",
    "    f = open(\"test1.txt\", \"r\")\n",
    "    n, m = map(int, f.readline().strip().split(','))\n",
    "    x, y = map(int, f.readline().strip().split(','))\n",
    "    q = int(f.readline().strip().split(',')[0])\n",
    "    seeds = []\n",
    "    for i in range(q):\n",
    "        seeds.append(list(map(int, f.readline().strip().split(','))))\n",
    "    \n",
    "    tic = time.time()\n",
    "    ans = weightedAStar(State([[x, y]], seeds), n, m, heuristic2, alpha)\n",
    "    toc = time.time()\n",
    "    t += toc - tic\n",
    "print(ans[0], len(ans[0]), ans[1], ans[2])\n",
    "print(\"Time taken:\", t / 2, \"seconds\")"
   ]
  },
  {
   "cell_type": "code",
   "execution_count": 258,
   "metadata": {},
   "outputs": [
    {
     "name": "stdout",
     "output_type": "stream",
     "text": [
      "RULDLUUUULULLLL 15 65446 502370\n",
      "Time taken: 1.1675982475280762 seconds\n"
     ]
    }
   ],
   "source": [
    "t = 0\n",
    "for _ in range(2):\n",
    "    f = open(\"test2.txt\", \"r\")\n",
    "    n, m = map(int, f.readline().strip().split(','))\n",
    "    x, y = map(int, f.readline().strip().split(','))\n",
    "    q = int(f.readline().strip().split(',')[0])\n",
    "    seeds = []\n",
    "    for i in range(q):\n",
    "        seeds.append(list(map(int, f.readline().strip().split(','))))\n",
    "    \n",
    "    tic = time.time()\n",
    "    ans = weightedAStar(State([[x, y]], seeds), n, m, heuristic2, alpha)\n",
    "    toc = time.time()\n",
    "    t += toc - tic\n",
    "print(ans[0], len(ans[0]), ans[1], ans[2])\n",
    "print(\"Time taken:\", t / 2, \"seconds\")"
   ]
  },
  {
   "cell_type": "code",
   "execution_count": 259,
   "metadata": {},
   "outputs": [
    {
     "name": "stdout",
     "output_type": "stream",
     "text": [
      "RURDRRDDDLULDRRRRDDRURRDLDLU 28 14885 90361\n",
      "Time taken: 0.23508822917938232 seconds\n"
     ]
    }
   ],
   "source": [
    "t = 0\n",
    "for _ in range(2):\n",
    "    f = open(\"test3.txt\", \"r\")\n",
    "    n, m = map(int, f.readline().strip().split(','))\n",
    "    x, y = map(int, f.readline().strip().split(','))\n",
    "    q = int(f.readline().strip().split(',')[0])\n",
    "    seeds = []\n",
    "    for i in range(q):\n",
    "        seeds.append(list(map(int, f.readline().strip().split(','))))\n",
    "    \n",
    "    tic = time.time()\n",
    "    ans = weightedAStar(State([[x, y]], seeds), n, m, heuristic2, alpha)\n",
    "    toc = time.time()\n",
    "    t += toc - tic\n",
    "print(ans[0], len(ans[0]), ans[1], ans[2])\n",
    "print(\"Time taken:\", t / 2, \"seconds\")"
   ]
  },
  {
   "cell_type": "markdown",
   "metadata": {},
   "source": [
    "# Test1.txt"
   ]
  },
  {
   "cell_type": "markdown",
   "metadata": {},
   "source": [
    "| Algorithm/Feature | Distance | Path | Seen States | Mojaza Seen States | Time\n",
    "| --- | --- | --- | --- | --- | --- |\n",
    "| BFS | 12 | LDLUUULLUULL | 29678 | 4735 | 0.0532534122467041\n",
    "| DFS | 12 | DLDRRDRRDRDD | 44137 | 8192 | 0.26406431198120117\n",
    "| A*1 | 12 | LDRDRDRDRDRD | 15482 | 2825 | 0.038837432861328125\n",
    "| A*2 | 12 | DLULUULLUULL | 15642 | 2955 | 0.07639646530151367\n",
    "| Weighted2 | 13 | DLULDRRRDDRRD | 16864 | 3075 | 0.04879724979400635\n",
    "| Weighted5 | 14 | RUURRDRDDLLLLL | 10683 | 2114 | 0.03212594985961914"
   ]
  },
  {
   "cell_type": "markdown",
   "metadata": {},
   "source": [
    "# Test2.txt"
   ]
  },
  {
   "cell_type": "markdown",
   "metadata": {},
   "source": [
    "| Algorithm/Feature | Distance | Path | Seen States | Mojaza Seen States | Time\n",
    "| --- | --- | --- | --- | --- | --- |\n",
    "| BFS | 15 | URDLLUUUULULLLL | 288867 | 44184 | 0.5359451770782471\n",
    "| DFS | 15 | RULDLULUUULLLLU | 181719 | 32292 | 2.759732484817505\n",
    "| A*1 | 15 | URDLLUUULULLLUL | 156380 | 26669 | 0.4536869525909424\n",
    "| A*2 | 15 | RULLDLUUUUULLLL | 93609 | 15577 | 0.24728405475616455\n",
    "| Weighted2 | 15 | URDLLUUUULULLLL | 221242 | 33144 | 0.5930299758911133\n",
    "| Weighted5 | 15 | RULDLUUUULULLLL | 502370 | 65446 | 1.1675982475280762"
   ]
  },
  {
   "cell_type": "markdown",
   "metadata": {},
   "source": [
    "# Test3.txt"
   ]
  },
  {
   "cell_type": "markdown",
   "metadata": {},
   "source": [
    "| Algorithm/Feature | Distance | Path | Seen States | Mojaza Seen States | Time\n",
    "| --- | --- | --- | --- | --- | --- |\n",
    "| BFS | 25 | URDDDRDRRDDRRRURRDLLLUULL | 1311521 | 199157 | 2.5454245805740356\n",
    "| DFS | 25 | RURDDDRRDRRRDDRRULLDLLLUU | 2554085 | 398609 | 23.737545490264893\n",
    "| A*1 | 25 | URDDDRRDRDRRRDRRULLDLLUUL | 806766 | 128170 | 2.461205244064331\n",
    "| A*2 | 25 | URDDRDRRDDDRRRRRULLDLUULL | 498013 | 79028 | 1.5778253078460693\n",
    "| Weighted2 | 26 | RURDDDRRDRULDDRDRRRRULLLDR | 262909 | 43655 | 0.7639806270599365\n",
    "| Weighted5 | 28 | RURDRRDDDLULDRRRRDDRURRDLDLU | 90361 | 14885 | 0.23508822917938232"
   ]
  },
  {
   "cell_type": "markdown",
   "metadata": {},
   "source": [
    "# نتیجه‌گیری\n",
    "همان‌طور که مشاهده می‌شود، حرف‌هایی که قبل از هر الگوریتم و تفاوت‌های بین الگوریتم‌های گفته شده درست می‌باشد."
   ]
  }
 ],
 "metadata": {
  "kernelspec": {
   "display_name": "Python 3",
   "language": "python",
   "name": "python3"
  },
  "language_info": {
   "codemirror_mode": {
    "name": "ipython",
    "version": 3
   },
   "file_extension": ".py",
   "mimetype": "text/x-python",
   "name": "python",
   "nbconvert_exporter": "python",
   "pygments_lexer": "ipython3",
   "version": "3.8.5"
  }
 },
 "nbformat": 4,
 "nbformat_minor": 4
}
